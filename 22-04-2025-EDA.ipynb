{
 "cells": [
  {
   "cell_type": "code",
   "execution_count": 1,
   "id": "73a6018c-ef86-4cfe-96da-57295d9a74dd",
   "metadata": {},
   "outputs": [],
   "source": [
    "import pandas as pd\n",
    "import numpy as np\n",
    "import matplotlib.pyplot as plt\n",
    "import seaborn as sns\n",
    "from datetime import datetime\n",
    "import calendar\n",
    "import warnings\n",
    "warnings.filterwarnings(\"ignore\", category=UserWarning)"
   ]
  },
  {
   "cell_type": "code",
   "execution_count": 2,
   "id": "9827d463-35f6-4f37-979c-771835b9946d",
   "metadata": {},
   "outputs": [],
   "source": [
    "# Load data and convert date columns to datetime\n",
    "df = pd.read_excel(\"DS Internship - EDA - Data.xlsx\")\n",
    "date_columns = ['Store Open', 'Store Close', 'Store Modification Date']\n",
    "for col in date_columns:\n",
    "    if col in df.columns:\n",
    "        df[col] = pd.to_datetime(df[col], errors='coerce')"
   ]
  },
  {
   "cell_type": "code",
   "execution_count": 3,
   "id": "33485a01-4878-4616-ba06-4ed24f72017d",
   "metadata": {},
   "outputs": [
    {
     "name": "stdout",
     "output_type": "stream",
     "text": [
      "   Year         Sales\n",
      "0  2015  1.627585e+09\n",
      "1  2016  1.843939e+09\n",
      "2  2017  1.651322e+09\n",
      "3  2018  1.492340e+09\n",
      "4  2019  1.471963e+09\n",
      "5  2020  6.510899e+07\n"
     ]
    }
   ],
   "source": [
    "# ----- INITIAL EXPLORATION -----\n",
    "\n",
    "# 1a. Find total sales by year\n",
    "yearly_sales = df.groupby('Year')['Sales'].sum().reset_index()\n",
    "print(yearly_sales)"
   ]
  },
  {
   "cell_type": "code",
   "execution_count": 4,
   "id": "215b7ba4-d66b-4898-a992-3ba8bd03bc7a",
   "metadata": {},
   "outputs": [
    {
     "name": "stdout",
     "output_type": "stream",
     "text": [
      "4\n"
     ]
    }
   ],
   "source": [
    "# 1b. Number of stores opened in the year 1991\n",
    "stores_1991 = df[df['Store Open'].dt.year == 1991]['Store'].nunique()\n",
    "print(stores_1991)"
   ]
  },
  {
   "cell_type": "code",
   "execution_count": 5,
   "id": "de93694a-ab15-489e-b338-1e8c79a4f707",
   "metadata": {},
   "outputs": [
    {
     "name": "stdout",
     "output_type": "stream",
     "text": [
      "346\n"
     ]
    }
   ],
   "source": [
    "# 1c. How many stores were remodelled during this period?\n",
    "remodelled_stores = df[~df['Store Modification Date'].isna()]['Store'].nunique()\n",
    "print(remodelled_stores)"
   ]
  },
  {
   "cell_type": "code",
   "execution_count": 6,
   "id": "46c47953-7595-4f36-ab44-f3399ffa0214",
   "metadata": {},
   "outputs": [
    {
     "name": "stdout",
     "output_type": "stream",
     "text": [
      "0.4750814572072202\n"
     ]
    }
   ],
   "source": [
    "# 1d. Find the direct relationship between Sales and total sq. ft.\n",
    "store_df = df.groupby('Store').agg({'Sales': 'mean', 'Total Sq Ft': 'first'}).reset_index()\n",
    "sales_sqft_corr = store_df['Sales'].corr(store_df['Total Sq Ft'])\n",
    "print(sales_sqft_corr)"
   ]
  },
  {
   "cell_type": "code",
   "execution_count": 7,
   "id": "94f74f81-3956-4d06-b5dc-e6ab0f21db4f",
   "metadata": {},
   "outputs": [
    {
     "name": "stdout",
     "output_type": "stream",
     "text": [
      "Super Division\n",
      "GIRLS          3.572426e+09\n",
      "BOYS           2.018241e+09\n",
      "ACCESSORIES    1.821397e+09\n",
      "KIDS           7.401937e+08\n",
      "Name: Sales, dtype: float64\n"
     ]
    }
   ],
   "source": [
    "# 1e. Which Super division is most profitable?\n",
    "division_sales = df.groupby('Super Division')['Sales'].sum().sort_values(ascending=False)\n",
    "print(division_sales)"
   ]
  },
  {
   "cell_type": "code",
   "execution_count": 8,
   "id": "0e76322e-c32e-4765-b479-2ff40c31c999",
   "metadata": {},
   "outputs": [
    {
     "name": "stdout",
     "output_type": "stream",
     "text": [
      "678\n"
     ]
    }
   ],
   "source": [
    "# 1f. How many stores are active as of today?\n",
    "active_stores = df[df['Store Close'].isna() | (df['Store Close'] > datetime.now())]['Store'].nunique()\n",
    "print(active_stores)"
   ]
  },
  {
   "cell_type": "code",
   "execution_count": 9,
   "id": "70321e49-0ab8-4c81-81da-dc70f6a9dd83",
   "metadata": {},
   "outputs": [
    {
     "name": "stdout",
     "output_type": "stream",
     "text": [
      "  Super Division  Total Sq Ft\n",
      "3           KIDS  7785.300000\n",
      "0    ACCESSORIES  7341.650000\n",
      "1           BOYS  7082.277778\n",
      "2          GIRLS  6243.321410\n"
     ]
    }
   ],
   "source": [
    "# 1g. Which super division has more sq. ft on average?\n",
    "# Get each store's first Super Division and sq. ft.\n",
    "store_sqft = df.groupby('Store').agg({'Super Division': 'first', 'Total Sq Ft': 'first'}).reset_index()\n",
    "avg_sqft_by_division = store_sqft.groupby('Super Division')['Total Sq Ft'].mean().reset_index()\n",
    "print(avg_sqft_by_division.sort_values('Total Sq Ft', ascending=False))"
   ]
  },
  {
   "cell_type": "code",
   "execution_count": 10,
   "id": "e7dcf8fa-3912-4f6d-9057-7005d692b898",
   "metadata": {},
   "outputs": [
    {
     "name": "stdout",
     "output_type": "stream",
     "text": [
      "   State         Sales  Store Count  Composite Score\n",
      "43    E4  58183.380314            2         0.996341\n",
      "15    B5  49794.577592            3         0.796508\n",
      "20    C1  49510.719503            7         0.775236\n"
     ]
    }
   ],
   "source": [
    "# ----- ADVANCED INSIGHTS -----\n",
    "\n",
    "# 2a. Top 3 candidate states for new stores\n",
    "state_avg_sales = df.groupby(['State', 'Store'])['Sales'].mean().groupby('State').mean().reset_index()\n",
    "state_store_count = df.groupby('State')['Store'].nunique().reset_index().rename(columns={'Store': 'Store Count'})\n",
    "state_analysis = state_avg_sales.merge(state_store_count, on='State')\n",
    "\n",
    "# Simplified scoring: Normalize factors and create composite score (70% sales, 30% low store count)\n",
    "state_analysis['Normalized Sales'] = (state_analysis['Sales'] - state_analysis['Sales'].min()) / (state_analysis['Sales'].max() - state_analysis['Sales'].min())\n",
    "state_analysis['Normalized Store Count'] = 1 - ((state_analysis['Store Count'] - state_analysis['Store Count'].min()) / (state_analysis['Store Count'].max() - state_analysis['Store Count'].min()))\n",
    "state_analysis['Composite Score'] = state_analysis['Normalized Sales'] * 0.7 + state_analysis['Normalized Store Count'] * 0.3\n",
    "\n",
    "top_states = state_analysis.sort_values('Composite Score', ascending=False).head(3)\n",
    "\n",
    "print(top_states[['State', 'Sales', 'Store Count', 'Composite Score']])"
   ]
  },
  {
   "cell_type": "code",
   "execution_count": 11,
   "id": "c4fb98c6-43cf-4139-95a6-01ca226f8d38",
   "metadata": {},
   "outputs": [
    {
     "name": "stdout",
     "output_type": "stream",
     "text": [
      "    Month         Sales Month Name\n",
      "11     12  63392.905721   December\n",
      "7       8  57362.934328     August\n",
      "2       3  48179.098097      March\n",
      "10     11  47063.812595   November\n",
      "6       7  45525.699765       July\n",
      "3       4  43248.803190      April\n",
      "5       6  42861.734267       June\n",
      "4       5  41712.454066        May\n",
      "1       2  40888.945072   February\n",
      "8       9  39106.330348  September\n",
      "9      10  38728.562158    October\n",
      "0       1  31716.908792    January\n"
     ]
    }
   ],
   "source": [
    "# 2b. Best time of year to open a store\n",
    "# Find Average sales by Month\n",
    "monthly_sales = df.groupby('Month')['Sales'].mean().reset_index()\n",
    "month_names = {i: calendar.month_name[i] for i in range(1, 13)}\n",
    "monthly_sales['Month Name'] = monthly_sales['Month'].map(month_names)\n",
    "\n",
    "print(monthly_sales.sort_values('Sales', ascending=False))"
   ]
  },
  {
   "cell_type": "code",
   "execution_count": 12,
   "id": "3d5abb77-0509-4f9b-beb5-ceca5ebf093e",
   "metadata": {},
   "outputs": [
    {
     "name": "stdout",
     "output_type": "stream",
     "text": [
      "  Outlet Type  Closure Rate\n",
      "1      Outlet     33.636364\n",
      "2       Strip     23.442136\n",
      "0        Mall      9.399478\n"
     ]
    }
   ],
   "source": [
    "# 2c. Outlet-type effects on store closures\n",
    "df['Is Closed'] = ~df['Store Close'].isna()\n",
    "outlet_closure = df.groupby(['Outlet Type', 'Store'])['Is Closed'].first().groupby('Outlet Type').mean().reset_index()\n",
    "outlet_closure.columns = ['Outlet Type', 'Closure Rate']\n",
    "outlet_closure['Closure Rate'] *= 100  # Convert to percentage\n",
    "\n",
    "# Store Closure Rate by Outlet Type\n",
    "print(outlet_closure.sort_values('Closure Rate', ascending=False))"
   ]
  },
  {
   "cell_type": "code",
   "execution_count": 13,
   "id": "7e9f1ad3-e86a-4abf-a254-88d807d2fd21",
   "metadata": {},
   "outputs": [
    {
     "name": "stdout",
     "output_type": "stream",
     "text": [
      "  Outlet Type  Store Lifespan\n",
      "1      Outlet       19.769725\n",
      "0        Mall       15.286029\n",
      "2       Strip       10.270579\n"
     ]
    }
   ],
   "source": [
    "# Calculate average lifespan for closed stores\n",
    "closed_stores = df[~df['Store Close'].isna()].copy()\n",
    "if not closed_stores.empty:\n",
    "    closed_stores['Store Lifespan'] = (closed_stores['Store Close'] - closed_stores['Store Open']).dt.days / 365.25\n",
    "    outlet_lifespan = closed_stores.groupby(['Outlet Type', 'Store'])['Store Lifespan'].first().groupby('Outlet Type').mean().reset_index()\n",
    "    \n",
    "    print(outlet_lifespan.sort_values('Store Lifespan', ascending=False))"
   ]
  },
  {
   "cell_type": "code",
   "execution_count": 14,
   "id": "de5aaedd-08f3-4206-af57-260481bdc0f5",
   "metadata": {},
   "outputs": [
    {
     "name": "stdout",
     "output_type": "stream",
     "text": [
      "\n",
      "----- SUMMARY OF KEY INSIGHTS -----\n",
      "1. Total number of unique stores in the dataset: 830\n",
      "2. Most profitable Super Division: GIRLS\n",
      "3. Top 3 states recommended for new stores: E4, B5, C1\n",
      "4. Best month to open a store: December\n",
      "5. Outlet type with highest closure rate: Outlet\n",
      "6. Correlation between store size and sales: 0.4751\n"
     ]
    }
   ],
   "source": [
    "print(\"\\n----- SUMMARY OF KEY INSIGHTS -----\")\n",
    "print(f\"1. Total number of unique stores in the dataset: {df['Store'].nunique()}\")\n",
    "print(f\"2. Most profitable Super Division: {division_sales.index[0]}\")\n",
    "print(f\"3. Top 3 states recommended for new stores: {', '.join(top_states['State'].tolist())}\")\n",
    "print(f\"4. Best month to open a store: {monthly_sales.sort_values('Sales', ascending=False)['Month Name'].iloc[0]}\")\n",
    "print(f\"5. Outlet type with highest closure rate: {outlet_closure.sort_values('Closure Rate', ascending=False)['Outlet Type'].iloc[0]}\")\n",
    "print(f\"6. Correlation between store size and sales: {sales_sqft_corr:.4f}\")"
   ]
  }
 ],
 "metadata": {
  "kernelspec": {
   "display_name": "Python 3 (ipykernel)",
   "language": "python",
   "name": "python3"
  },
  "language_info": {
   "codemirror_mode": {
    "name": "ipython",
    "version": 3
   },
   "file_extension": ".py",
   "mimetype": "text/x-python",
   "name": "python",
   "nbconvert_exporter": "python",
   "pygments_lexer": "ipython3",
   "version": "3.13.1"
  }
 },
 "nbformat": 4,
 "nbformat_minor": 5
}
